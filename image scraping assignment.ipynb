{
 "cells": [
  {
   "cell_type": "markdown",
   "id": "b23b10ed-4e8d-48ab-8c1a-43352f5b7fae",
   "metadata": {},
   "source": [
    "# Go to this given URL and solve the following questions\n",
    "URL: https://www.youtube.com/@PW-Foundation/videos"
   ]
  },
  {
   "cell_type": "markdown",
   "id": "590574aa-30fc-47cf-9cbe-a29190f73e09",
   "metadata": {},
   "source": [
    "### Q1. Write a python program to extract the video URL of the first five videos."
   ]
  },
  {
   "cell_type": "markdown",
   "id": "2f18f687-ea31-4ad0-ac08-fe3b38518e7e",
   "metadata": {},
   "source": [
    "#### Ans"
   ]
  },
  {
   "cell_type": "code",
   "execution_count": 1,
   "id": "5a88de4d-1cac-4851-97e4-27b5d5c29089",
   "metadata": {},
   "outputs": [],
   "source": [
    "import requests\n",
    "import re\n",
    "from bs4 import BeautifulSoup"
   ]
  },
  {
   "cell_type": "code",
   "execution_count": 2,
   "id": "9f2bf83c-3c9e-4c7c-adda-6f15d0315b84",
   "metadata": {},
   "outputs": [],
   "source": [
    "youtube_url = \"https://www.youtube.com/@PW-Foundation/videos\""
   ]
  },
  {
   "cell_type": "code",
   "execution_count": 3,
   "id": "e88cb92a-4b7f-44f7-868f-2a3a1d7e9bfd",
   "metadata": {},
   "outputs": [],
   "source": [
    "headers = {\"User-Agent\": \"Mozilla/5.0 (Windows NT 10.0; Win64; x64) AppleWebKit/537.36 (KHTML, like Gecko) Chrome/58.0.3029.110 Safari/537.36\"}\n"
   ]
  },
  {
   "cell_type": "code",
   "execution_count": 4,
   "id": "de79cb4f-d68b-43d1-af06-2eea5c118ac1",
   "metadata": {},
   "outputs": [],
   "source": [
    "response = requests.get(youtube_url , headers=headers)"
   ]
  },
  {
   "cell_type": "code",
   "execution_count": 5,
   "id": "71ad3da7-7766-4298-a768-e42b731363f7",
   "metadata": {},
   "outputs": [],
   "source": [
    "video_ids = re.findall('\"videoRenderer\":{\"videoId\":\".*?\"', response.text)"
   ]
  },
  {
   "cell_type": "code",
   "execution_count": 6,
   "id": "e4d0d56a-e04c-4925-b3ae-90902c06cdf3",
   "metadata": {},
   "outputs": [
    {
     "name": "stdout",
     "output_type": "stream",
     "text": [
      "https://www.youtube.com/watch?v=8Pgsj94Gnkw\n",
      "https://www.youtube.com/watch?v=yVkPfvFbQrg\n",
      "https://www.youtube.com/watch?v=Al3qF9bfxCs\n",
      "https://www.youtube.com/watch?v=dYh6Chnq0lo\n",
      "https://www.youtube.com/watch?v=v22z2ixxN1c\n",
      "https://www.youtube.com/watch?v=MksUgxuA8L4\n",
      "https://www.youtube.com/watch?v=3TL4-e3z7CA\n",
      "https://www.youtube.com/watch?v=U09HORTeaB8\n",
      "https://www.youtube.com/watch?v=eazPrtheE14\n",
      "https://www.youtube.com/watch?v=luqdZrYnFOM\n",
      "https://www.youtube.com/watch?v=YiBqvPi8Q1I\n",
      "https://www.youtube.com/watch?v=mw9mLdN6ssA\n",
      "https://www.youtube.com/watch?v=LuTONVLzESM\n",
      "https://www.youtube.com/watch?v=KWXKegvNa-I\n",
      "https://www.youtube.com/watch?v=dArUpCasmnE\n",
      "https://www.youtube.com/watch?v=HqG2QchBw8Y\n",
      "https://www.youtube.com/watch?v=1izKrQHyx9M\n",
      "https://www.youtube.com/watch?v=jXAb1evxaJc\n",
      "https://www.youtube.com/watch?v=2dn7XMxRtPE\n",
      "https://www.youtube.com/watch?v=Fks4dVnTb5M\n",
      "https://www.youtube.com/watch?v=nIuGXeISbSo\n",
      "https://www.youtube.com/watch?v=L5G-0FbyAsc\n",
      "https://www.youtube.com/watch?v=uqDX6hcRf2I\n",
      "https://www.youtube.com/watch?v=9ZVfDuqKIQM\n",
      "https://www.youtube.com/watch?v=1wMGzlQTyeM\n",
      "https://www.youtube.com/watch?v=ivS0xPAbVUs\n",
      "https://www.youtube.com/watch?v=UJb799ZLCwQ\n",
      "https://www.youtube.com/watch?v=RPCHRtdO9hg\n",
      "https://www.youtube.com/watch?v=iN2UWJW3lzo\n",
      "https://www.youtube.com/watch?v=lRle7Jzciq8\n"
     ]
    }
   ],
   "source": [
    "# print(videoids)\n",
    "\n",
    "for video_id in video_ids:\n",
    "    video_url = 'https://www.youtube.com/watch?v='+ video_id.split('\"')[-2]\n",
    "    print(video_url)"
   ]
  },
  {
   "cell_type": "markdown",
   "id": "29734da0-e65f-4cc6-becb-efb72355a083",
   "metadata": {},
   "source": [
    "### Q2. Write a python program to extract the URL of the video thumbnails of the first five videos."
   ]
  },
  {
   "cell_type": "markdown",
   "id": "3d1a3fef-9d07-495b-8048-b3cd19404302",
   "metadata": {},
   "source": [
    "#### Ans"
   ]
  },
  {
   "cell_type": "code",
   "execution_count": 7,
   "id": "4a7ac3af-105e-451f-998a-ae0791aab2ad",
   "metadata": {},
   "outputs": [
    {
     "name": "stdout",
     "output_type": "stream",
     "text": [
      "https://i.ytimg.com/vi/8Pgsj94Gnkw/hqdefault.jpg?sqp=-oaymwEbCKgBEF5IVfKriqkDDggBFQAAiEIYAXABwAEG\\u0026rs=AOn4CLCepJjeS4LrO4DwwbIoMroer9on_g\n",
      "https://i.ytimg.com/vi/yVkPfvFbQrg/hqdefault.jpg?sqp=-oaymwEbCKgBEF5IVfKriqkDDggBFQAAiEIYAXABwAEG\\u0026rs=AOn4CLChVtuTsa_-Wx85ay3GHmv387wikg\n",
      "https://i.ytimg.com/vi/Al3qF9bfxCs/hqdefault.jpg?sqp=-oaymwEbCKgBEF5IVfKriqkDDggBFQAAiEIYAXABwAEG\\u0026rs=AOn4CLCyyrdW2MUG_R2LDxpd1knoSWGPKQ\n",
      "https://i.ytimg.com/vi/dYh6Chnq0lo/hqdefault.jpg?sqp=-oaymwEbCKgBEF5IVfKriqkDDggBFQAAiEIYAXABwAEG\\u0026rs=AOn4CLBlsHh-benfUusVpyE7PiPxD7FCKw\n",
      "https://i.ytimg.com/vi/v22z2ixxN1c/hqdefault.jpg?sqp=-oaymwEbCKgBEF5IVfKriqkDDggBFQAAiEIYAXABwAEG\\u0026rs=AOn4CLB1UWTfl4-h9qJRfsd49mlfImLsYw\n",
      "https://i.ytimg.com/vi/MksUgxuA8L4/hqdefault.jpg?sqp=-oaymwEbCKgBEF5IVfKriqkDDggBFQAAiEIYAXABwAEG\\u0026rs=AOn4CLC4Bu9CbrhFkaAS-3oJbSO-l1SmLA\n",
      "https://i.ytimg.com/vi/3TL4-e3z7CA/hqdefault.jpg?sqp=-oaymwEbCKgBEF5IVfKriqkDDggBFQAAiEIYAXABwAEG\\u0026rs=AOn4CLDMjlm8o3C0GD9xv0ssbFeHAEXHKg\n",
      "https://i.ytimg.com/vi/U09HORTeaB8/hqdefault.jpg?sqp=-oaymwEbCKgBEF5IVfKriqkDDggBFQAAiEIYAXABwAEG\\u0026rs=AOn4CLDF56eiBbvjwavr5T36ODk1AbZCXw\n",
      "https://i.ytimg.com/vi/eazPrtheE14/hqdefault.jpg?sqp=-oaymwEbCKgBEF5IVfKriqkDDggBFQAAiEIYAXABwAEG\\u0026rs=AOn4CLDT1dQqERqkWkNX68g5MnH-eQ8fdg\n",
      "https://i.ytimg.com/vi/luqdZrYnFOM/hqdefault.jpg?sqp=-oaymwE1CKgBEF5IVfKriqkDKAgBFQAAiEIYAXABwAEG8AEB-AH-CYAC0AWKAgwIABABGFUgTihlMA8=\\u0026rs=AOn4CLCqc_2Bpb3QWK5gpB9rac6dXhx29g\n",
      "https://i.ytimg.com/vi/YiBqvPi8Q1I/hqdefault.jpg?sqp=-oaymwEbCKgBEF5IVfKriqkDDggBFQAAiEIYAXABwAEG\\u0026rs=AOn4CLA75vVY2k_O0OoCHbQuhOgg-nLG4Q\n",
      "https://i.ytimg.com/vi/mw9mLdN6ssA/hqdefault.jpg?sqp=-oaymwEbCKgBEF5IVfKriqkDDggBFQAAiEIYAXABwAEG\\u0026rs=AOn4CLAImJ-DcjUmZEaasmWOj7z3clr_gg\n",
      "https://i.ytimg.com/vi/LuTONVLzESM/hqdefault.jpg?sqp=-oaymwEbCKgBEF5IVfKriqkDDggBFQAAiEIYAXABwAEG\\u0026rs=AOn4CLAGQWUP6giB_s2WYL_mb72zpud-_A\n",
      "https://i.ytimg.com/vi/KWXKegvNa-I/hqdefault.jpg?sqp=-oaymwEbCKgBEF5IVfKriqkDDggBFQAAiEIYAXABwAEG\\u0026rs=AOn4CLDhBK7gq7PnSKmXrqMhUYbcmmKzxA\n",
      "https://i.ytimg.com/vi/dArUpCasmnE/hqdefault.jpg?sqp=-oaymwEbCKgBEF5IVfKriqkDDggBFQAAiEIYAXABwAEG\\u0026rs=AOn4CLDe_WfL3docWSQ8OOg__DB7JIvNrQ\n",
      "https://i.ytimg.com/vi/HqG2QchBw8Y/hqdefault.jpg?sqp=-oaymwEbCKgBEF5IVfKriqkDDggBFQAAiEIYAXABwAEG\\u0026rs=AOn4CLCV1vWBbE9dH-ydyS-W-ooTr7ZUEg\n",
      "https://i.ytimg.com/vi/1izKrQHyx9M/hqdefault.jpg?sqp=-oaymwEbCKgBEF5IVfKriqkDDggBFQAAiEIYAXABwAEG\\u0026rs=AOn4CLBQ2rHTzoZeHcfTrxFvBhQO0ysRfA\n",
      "https://i.ytimg.com/vi/jXAb1evxaJc/hqdefault.jpg?sqp=-oaymwEbCKgBEF5IVfKriqkDDggBFQAAiEIYAXABwAEG\\u0026rs=AOn4CLAngmLbx6H2fPQbzdxvQxNytos22A\n",
      "https://i.ytimg.com/vi/2dn7XMxRtPE/hqdefault.jpg?sqp=-oaymwEbCKgBEF5IVfKriqkDDggBFQAAiEIYAXABwAEG\\u0026rs=AOn4CLDwFV0YngBso5d1Ltb_Sc0k7jTQwA\n",
      "https://i.ytimg.com/vi/Fks4dVnTb5M/hqdefault.jpg?sqp=-oaymwEbCKgBEF5IVfKriqkDDggBFQAAiEIYAXABwAEG\\u0026rs=AOn4CLBnYX_eCf1zVIRLv6ALXSZ_6822ww\n",
      "https://i.ytimg.com/vi/nIuGXeISbSo/hqdefault.jpg?sqp=-oaymwEbCKgBEF5IVfKriqkDDggBFQAAiEIYAXABwAEG\\u0026rs=AOn4CLAkzRlYJDR_hhhYBBi4Az5lBHWS8A\n",
      "https://i.ytimg.com/vi/L5G-0FbyAsc/hqdefault.jpg?sqp=-oaymwEbCKgBEF5IVfKriqkDDggBFQAAiEIYAXABwAEG\\u0026rs=AOn4CLBkn-A0BKUrvgizKXgqYEthjcuwZA\n",
      "https://i.ytimg.com/vi/uqDX6hcRf2I/hqdefault.jpg?sqp=-oaymwEbCKgBEF5IVfKriqkDDggBFQAAiEIYAXABwAEG\\u0026rs=AOn4CLAdgOoo6cSHXvM6mul3ArQ3mXlK5A\n",
      "https://i.ytimg.com/vi/9ZVfDuqKIQM/hqdefault.jpg?sqp=-oaymwEbCKgBEF5IVfKriqkDDggBFQAAiEIYAXABwAEG\\u0026rs=AOn4CLC9-1CiqQ3Vy06gcSaqfc3zJ1E8qA\n",
      "https://i.ytimg.com/vi/1wMGzlQTyeM/hqdefault.jpg?sqp=-oaymwEbCKgBEF5IVfKriqkDDggBFQAAiEIYAXABwAEG\\u0026rs=AOn4CLCz9Ly1MHb-4q64uWngzOuhYTH_Pw\n",
      "https://i.ytimg.com/vi/ivS0xPAbVUs/hqdefault.jpg?sqp=-oaymwEbCKgBEF5IVfKriqkDDggBFQAAiEIYAXABwAEG\\u0026rs=AOn4CLAVFb7hK7mSESmH-_lwIJulxrZlFg\n",
      "https://i.ytimg.com/vi/UJb799ZLCwQ/hqdefault.jpg?sqp=-oaymwEbCKgBEF5IVfKriqkDDggBFQAAiEIYAXABwAEG\\u0026rs=AOn4CLA_NCiYi9E7JRTrekdvH8Q0I54VRg\n",
      "https://i.ytimg.com/vi/RPCHRtdO9hg/hqdefault.jpg?sqp=-oaymwEbCKgBEF5IVfKriqkDDggBFQAAiEIYAXABwAEG\\u0026rs=AOn4CLCY9AjQAvdRsTA9Zv169s35a7hYOQ\n",
      "https://i.ytimg.com/vi/iN2UWJW3lzo/hqdefault.jpg?sqp=-oaymwEbCKgBEF5IVfKriqkDDggBFQAAiEIYAXABwAEG\\u0026rs=AOn4CLAi-nMwkQ6LMZVfw1IOjuVgmPN7KA\n",
      "https://i.ytimg.com/vi/lRle7Jzciq8/hqdefault.jpg?sqp=-oaymwEbCKgBEF5IVfKriqkDDggBFQAAiEIYAXABwAEG\\u0026rs=AOn4CLCBRhRwqyHrvW1obtFvysb3DJzKQQ\n",
      "https://yt3.googleusercontent.com/ZhXrPzcpLJxFRu21_fawmLWkwUoAWb3DSe04Ey-9sTXwBDnj22bH5217PQOCsRp7dWJf41aa=s200-c-k-c0x00ffffff-no-rj?days_since_epoch=19619\n"
     ]
    }
   ],
   "source": [
    "thumbnails= re.findall('\"thumbnail\":{\"thumbnails\":\\[{\"url\":\".*?\"',response.text)\n",
    "\n",
    "# print(videoids)\n",
    "\n",
    "for thumbnail in thumbnails:\n",
    "    thumbs = thumbnail.split('\"')[-2]\n",
    "    print(thumbs)"
   ]
  },
  {
   "cell_type": "markdown",
   "id": "6d27a011-8297-4954-a5d3-624ab9f62c1a",
   "metadata": {},
   "source": [
    "### Q3. Write a python program to extract the title of the first five videos."
   ]
  },
  {
   "cell_type": "markdown",
   "id": "8dfb0a72-7e58-4930-b219-e58c36f9d29e",
   "metadata": {},
   "source": [
    "#### Ans"
   ]
  },
  {
   "cell_type": "code",
   "execution_count": 8,
   "id": "942338ce-ac82-49f8-91d9-d041f8501853",
   "metadata": {},
   "outputs": [
    {
     "name": "stdout",
     "output_type": "stream",
     "text": [
      "Nationalism in India in One Shot 🎯 || Class - 10th Boards\n",
      "Only 4 Months Left for Class 10th BOARD EXAMS.. 🫵🏻 🎯\n",
      "OLYMPIAD EXAMS 2023-2024 | Last Date of Registration | NSE, INO, IOQM 🎯\n",
      "Teacher's Day Offers 🔥 | Fastrack Batches LAUNCHED @₹1200 For 9th \\u0026 10th | Valid till 12th September\n",
      "Launching FREE Batch for Class 12th  @PW-ArtsWallah  | NEW Channel | Check Description\n",
      "Launching FREE Batch for Class 9th @Class9th-NEEV  | NEW Channel | Check Description\n",
      "Launching FREE Batch for Class 10th @Class10th-UDAAN  | NEW Channel | Check Description.\n",
      "MEGA MOCK TEST Series is LIVE Now 🔴|| For Class-9th \\u0026 10th Students @free\n",
      "ALERT 🚨 : OLYMPIAD EXAM Registration Open for 2023-2024 | Step by Step Procedure | NSO | IMO | SOF\n",
      "Offer Ending Soon 🤯 | Only Few Hours Left | #SapneDekhneKiAzaadi 🔥\n",
      "Upto 35% Off On All PW Batches 🔥 | Only 1 Day Left 🤯 #SapneDekhneKiAzaadi\n",
      "Happy 77th Independence Day 🇮🇳 | Check the Offers Now 🔥 #SapneDekhneKiAzaadi\n",
      "ARTS की दुनिया की PAHAL 🔥 || Launching Class 11th ARTS BATCH\n",
      "Something Big Coming Soon For Class - 9th \\u0026 10th Students 🔥 || Stay Tuned For More Updates 🖋️\n",
      "Launching PAHAL Batch 🔥 For Class 11th Arts Students 💪\n",
      "Launching FUNDO For Class - 6th to 8th Students 🔥💯 || Ab Hoga Padhai Ke Sath FUN 🤩\n",
      "⚡Unleashing the Power of PW Internationally⚡| Launching Physics Wallah Gulf\n",
      "Big Announcement for Gulf Region Aspirants 🔥| Physics Wallah Gulf Channel Trailer🚀\n",
      "Arjuna JEE v/s Arjuna NEET 🏏- Class 11th Faculties ka Cricket Match 🔥\n",
      "How to Study Zoology in Class 11th? Ab Saare Doubts Solve Honge !! 🔥\n",
      "BIGGEST OFFER For Class - 8th ,9th \\u0026 10th Students 🤩 || Grab This Opportunity Now 🔥\n",
      "UDAAN Hindi Batch 🔥| Class 10th वालों के बच्चें के लिए Surprises 🎉🎉 #3SaalLajawaab\n",
      "NEEV 2.0 Batch 🔥 | Class 9th वालों के बच्चें के लिए Surprises 🎉🎉 #3SaalLajawaab\n",
      "How to Study Botany in Class 11th? Ab Saare Doubts Solve Honge !! 🔥\n",
      "How To Prepare For National Science Olympiad? 🔥 || A Complete Guide For Class 9th \\u0026 10th Students\n",
      "How to Study Physics in Class 11th? Ab Saare Numericals Solve Honge !! 🔥\n",
      "Why Maximum Students WASTED their Class 11th? The HARSH TRUTH !!\n",
      "Meet Bhakti Agrawal : The Topper of Our CBSE Board Class - 10th 2023 🔥\n",
      "How To Plan Maths Strategy For Class -10th To Score 95%+ Marks || CBSE Boards 🔥\n",
      "Meet Dilisha Rajput : The Topper of Our CBSE Board Class - 10th 2023 🔥\n",
      "Keyboard shortcuts\n",
      "Playback\n",
      "General\n",
      "Subtitles and closed captions\n",
      "Spherical videos\n"
     ]
    }
   ],
   "source": [
    "titles = re.findall('\"title\":{\"runs\":\\[{\"text\":\".*?\"', response.text)\n",
    "\n",
    "# print(videoids)\n",
    "\n",
    "for title in titles:\n",
    "    tit = title.split('\"')[-2]\n",
    "    print(tit)"
   ]
  },
  {
   "cell_type": "markdown",
   "id": "89c3fb6f-9e5e-4beb-9c58-2733779a3fa5",
   "metadata": {},
   "source": [
    "### Q4. Write a python program to extract the number of views of the first five videos."
   ]
  },
  {
   "cell_type": "markdown",
   "id": "c258eca3-dfe6-4560-bec8-4d0b447e0e69",
   "metadata": {},
   "source": [
    "#### Ans"
   ]
  },
  {
   "cell_type": "code",
   "execution_count": 9,
   "id": "42f13471-84ce-4fe0-8e94-59a9f77f4c87",
   "metadata": {},
   "outputs": [
    {
     "name": "stdout",
     "output_type": "stream",
     "text": [
      "24K views\n",
      "94K views\n",
      "23K views\n",
      "26K views\n",
      "14K views\n",
      "113K views\n",
      "150K views\n",
      "57K views\n",
      "30K views\n",
      "18K views\n",
      "14K views\n",
      "47K views\n",
      "25K views\n",
      "45K views\n",
      "39K views\n",
      "30K views\n",
      "74K views\n",
      "101K views\n",
      "555K views\n",
      "13K views\n",
      "46K views\n",
      "22K views\n",
      "39K views\n",
      "19K views\n",
      "113K views\n",
      "41K views\n",
      "45K views\n",
      "24K views\n",
      "461K views\n",
      "18K views\n"
     ]
    }
   ],
   "source": [
    "views = re.findall('\"shortViewCountText\":{\"accessibility\":{\"accessibilityData\":{\"label\":\".*?\"', response.text)\n",
    "\n",
    "# print(videoids)\n",
    "\n",
    "for view in views:\n",
    "    view_count = view.split('\"')[-2]\n",
    "    print(view_count)"
   ]
  },
  {
   "cell_type": "markdown",
   "id": "47348ecc-2e73-4283-acac-8fb4be53111b",
   "metadata": {},
   "source": [
    "### Q5. Write a python program to extract the time of posting of video for the first five videos."
   ]
  },
  {
   "cell_type": "markdown",
   "id": "e163df09-d9d9-4f30-839e-12a654cf8504",
   "metadata": {},
   "source": [
    "#### Ans"
   ]
  },
  {
   "cell_type": "code",
   "execution_count": 10,
   "id": "6d765932-62ae-474f-874b-f1fbc1badb8c",
   "metadata": {},
   "outputs": [
    {
     "name": "stdout",
     "output_type": "stream",
     "text": [
      "2 days ago\n",
      "7 days ago\n",
      "7 days ago\n",
      "12 days ago\n",
      "2 weeks ago\n",
      "2 weeks ago\n",
      "2 weeks ago\n",
      "3 weeks ago\n",
      "3 weeks ago\n",
      "4 weeks ago\n",
      "4 weeks ago\n",
      "1 month ago\n",
      "1 month ago\n",
      "2 months ago\n",
      "2 months ago\n",
      "2 months ago\n",
      "3 months ago\n",
      "3 months ago\n",
      "3 months ago\n",
      "3 months ago\n",
      "3 months ago\n",
      "3 months ago\n",
      "3 months ago\n",
      "3 months ago\n",
      "3 months ago\n",
      "3 months ago\n",
      "3 months ago\n",
      "4 months ago\n",
      "4 months ago\n",
      "4 months ago\n"
     ]
    }
   ],
   "source": [
    "published_time = re.findall('\"publishedTimeText\":{\"simpleText\":\".*?\"', response.text)\n",
    "\n",
    "# print(videoids)\n",
    "\n",
    "for time in published_time:\n",
    "    time = time.split('\"')[-2]\n",
    "    print(time)"
   ]
  },
  {
   "cell_type": "code",
   "execution_count": null,
   "id": "f49a20bc-4f89-4ce4-abff-bcaf4246f4db",
   "metadata": {},
   "outputs": [],
   "source": []
  },
  {
   "cell_type": "markdown",
   "id": "dde75f99-3b99-412d-8cb5-c2a5c31befc8",
   "metadata": {},
   "source": [
    "## csv"
   ]
  },
  {
   "cell_type": "code",
   "execution_count": 11,
   "id": "9c594309-ef3d-41ce-96e3-fa64fda03369",
   "metadata": {},
   "outputs": [],
   "source": [
    "import os\n",
    "import shutil\n",
    "import re\n",
    "import csv\n",
    "import requests\n",
    "\n",
    "query =  'PW-Foundation'                    \n",
    "# query=input().replace(\" \",\"\")"
   ]
  },
  {
   "cell_type": "code",
   "execution_count": 12,
   "id": "12cf9cd6-6482-42fa-b1be-3b8db809897d",
   "metadata": {},
   "outputs": [],
   "source": [
    "def save_to_csv_file(report_list):\n",
    "            file_name = query+'.csv'\n",
    "         \n",
    "            with open(file_name, 'w') as csvfile:\n",
    "                csvwriter = csv.writer(csvfile)\n",
    "                for row in report_list:\n",
    "                    try:\n",
    "                        csvwriter.writerow(row)\n",
    "                    except:                               # UnicodeEncodeError ,because of these 🔥🔥 in the title row[3]         \n",
    "                        # print(row[3])  \n",
    "                        row[3] = row[3].encode('utf-8')\n",
    "                        # print(row[3]) \n",
    "                        csvwriter.writerow(row)\n",
    "                        continue"
   ]
  },
  {
   "cell_type": "code",
   "execution_count": 13,
   "id": "0a5d05b0-771e-4d7e-8034-c1e04709d717",
   "metadata": {},
   "outputs": [],
   "source": [
    "headers = {\"User-Agent\": \"Mozilla/5.0 (Windows NT 10.0; Win64; x64) AppleWebKit/537.36 (KHTML, like Gecko) Chrome/112.0.0.0 Safari/537.36\"}\n",
    "\n",
    "# fetch the search results page\n",
    "response = requests.get(f\"https://www.youtube.com/@{query}/videos\", headers=headers)\n",
    "res = response.text\n",
    "\n",
    "# Video\n",
    "videoids = re.findall('\"videoRenderer\":{\"videoId\":\".*?\"', res)\n",
    "# thumbnail\n",
    "thumbnails = re.findall('\"thumbnail\":{\"thumbnails\":\\[{\"url\":\".*?\"', res)\n",
    "# Title\n",
    "titles = re.findall('\"title\":{\"runs\":\\[{\"text\":\".*?\"', res)\n",
    "# Views\n",
    "views = re.findall('\"shortViewCountText\":{\"accessibility\":{\"accessibilityData\":{\"label\":\".*?\"', res)\n",
    "# Published Time\n",
    "published_time = re.findall('\"publishedTimeText\":{\"simpleText\":\".*?\"', res)\n",
    "\n",
    "report_list = [\n",
    "                ['S No', 'Video url', 'Thumbnail', 'Title', 'Views', 'Published Time']\n",
    "            ]"
   ]
  },
  {
   "cell_type": "code",
   "execution_count": 14,
   "id": "52381f2d-3c5a-4e56-a3a4-05c85d0c664a",
   "metadata": {},
   "outputs": [],
   "source": [
    "for i in range(20):\n",
    "                try:\n",
    "                    temp = []\n",
    "                    temp.append(i+1)\n",
    "                    temp.append('https://www.youtube.com/watch?v=' + videoids[i].split('\"')[-2])\n",
    "                    temp.append(thumbnails[i].split('\"')[-2])\n",
    "                    temp.append(titles[i].split('\"')[-2])\n",
    "                    temp.append(views[i].split('\"')[-2])\n",
    "                    temp.append(published_time[i].split('\"')[-2])\n",
    "                    report_list.append(temp)\n",
    "                except Exception as e:\n",
    "                        print(e)\n",
    "                        continue\n",
    "  \n",
    "\n",
    "                        save_to_csv_file(report_list)"
   ]
  },
  {
   "cell_type": "code",
   "execution_count": 15,
   "id": "8155e4e1-ce3c-4a87-aa4c-acc93a5c1e11",
   "metadata": {},
   "outputs": [
    {
     "data": {
      "text/plain": [
       "[['S No', 'Video url', 'Thumbnail', 'Title', 'Views', 'Published Time'],\n",
       " [1,\n",
       "  'https://www.youtube.com/watch?v=8Pgsj94Gnkw',\n",
       "  'https://i.ytimg.com/vi/8Pgsj94Gnkw/hqdefault.jpg?sqp=-oaymwEbCKgBEF5IVfKriqkDDggBFQAAiEIYAXABwAEG\\\\u0026rs=AOn4CLCepJjeS4LrO4DwwbIoMroer9on_g',\n",
       "  'Nationalism in India in One Shot 🎯 || Class - 10th Boards',\n",
       "  '24K views',\n",
       "  '2 days ago'],\n",
       " [2,\n",
       "  'https://www.youtube.com/watch?v=yVkPfvFbQrg',\n",
       "  'https://i.ytimg.com/vi/yVkPfvFbQrg/hqdefault.jpg?sqp=-oaymwEbCKgBEF5IVfKriqkDDggBFQAAiEIYAXABwAEG\\\\u0026rs=AOn4CLChVtuTsa_-Wx85ay3GHmv387wikg',\n",
       "  'Only 4 Months Left for Class 10th BOARD EXAMS.. \\U0001faf5🏻 🎯',\n",
       "  '94K views',\n",
       "  '7 days ago'],\n",
       " [3,\n",
       "  'https://www.youtube.com/watch?v=Al3qF9bfxCs',\n",
       "  'https://i.ytimg.com/vi/Al3qF9bfxCs/hqdefault.jpg?sqp=-oaymwEbCKgBEF5IVfKriqkDDggBFQAAiEIYAXABwAEG\\\\u0026rs=AOn4CLCyyrdW2MUG_R2LDxpd1knoSWGPKQ',\n",
       "  'OLYMPIAD EXAMS 2023-2024 | Last Date of Registration | NSE, INO, IOQM 🎯',\n",
       "  '23K views',\n",
       "  '8 days ago'],\n",
       " [4,\n",
       "  'https://www.youtube.com/watch?v=dYh6Chnq0lo',\n",
       "  'https://i.ytimg.com/vi/dYh6Chnq0lo/hqdefault.jpg?sqp=-oaymwEbCKgBEF5IVfKriqkDDggBFQAAiEIYAXABwAEG\\\\u0026rs=AOn4CLBlsHh-benfUusVpyE7PiPxD7FCKw',\n",
       "  \"Teacher's Day Offers 🔥 | Fastrack Batches LAUNCHED @₹1200 For 9th \\\\u0026 10th | Valid till 12th September\",\n",
       "  '26K views',\n",
       "  '12 days ago'],\n",
       " [5,\n",
       "  'https://www.youtube.com/watch?v=v22z2ixxN1c',\n",
       "  'https://i.ytimg.com/vi/v22z2ixxN1c/hqdefault.jpg?sqp=-oaymwEbCKgBEF5IVfKriqkDDggBFQAAiEIYAXABwAEG\\\\u0026rs=AOn4CLB1UWTfl4-h9qJRfsd49mlfImLsYw',\n",
       "  'Launching FREE Batch for Class 12th  @PW-ArtsWallah  | NEW Channel | Check Description',\n",
       "  '14K views',\n",
       "  '2 weeks ago'],\n",
       " [6,\n",
       "  'https://www.youtube.com/watch?v=MksUgxuA8L4',\n",
       "  'https://i.ytimg.com/vi/MksUgxuA8L4/hqdefault.jpg?sqp=-oaymwEbCKgBEF5IVfKriqkDDggBFQAAiEIYAXABwAEG\\\\u0026rs=AOn4CLC4Bu9CbrhFkaAS-3oJbSO-l1SmLA',\n",
       "  'Launching FREE Batch for Class 9th @Class9th-NEEV  | NEW Channel | Check Description',\n",
       "  '113K views',\n",
       "  '2 weeks ago'],\n",
       " [7,\n",
       "  'https://www.youtube.com/watch?v=3TL4-e3z7CA',\n",
       "  'https://i.ytimg.com/vi/3TL4-e3z7CA/hqdefault.jpg?sqp=-oaymwEbCKgBEF5IVfKriqkDDggBFQAAiEIYAXABwAEG\\\\u0026rs=AOn4CLDMjlm8o3C0GD9xv0ssbFeHAEXHKg',\n",
       "  'Launching FREE Batch for Class 10th @Class10th-UDAAN  | NEW Channel | Check Description.',\n",
       "  '150K views',\n",
       "  '2 weeks ago'],\n",
       " [8,\n",
       "  'https://www.youtube.com/watch?v=U09HORTeaB8',\n",
       "  'https://i.ytimg.com/vi/U09HORTeaB8/hqdefault.jpg?sqp=-oaymwEbCKgBEF5IVfKriqkDDggBFQAAiEIYAXABwAEG\\\\u0026rs=AOn4CLDF56eiBbvjwavr5T36ODk1AbZCXw',\n",
       "  'MEGA MOCK TEST Series is LIVE Now 🔴|| For Class-9th \\\\u0026 10th Students @free',\n",
       "  '57K views',\n",
       "  '3 weeks ago'],\n",
       " [9,\n",
       "  'https://www.youtube.com/watch?v=eazPrtheE14',\n",
       "  'https://i.ytimg.com/vi/eazPrtheE14/hqdefault.jpg?sqp=-oaymwEbCKgBEF5IVfKriqkDDggBFQAAiEIYAXABwAEG\\\\u0026rs=AOn4CLDT1dQqERqkWkNX68g5MnH-eQ8fdg',\n",
       "  'ALERT 🚨 : OLYMPIAD EXAM Registration Open for 2023-2024 | Step by Step Procedure | NSO | IMO | SOF',\n",
       "  '30K views',\n",
       "  '3 weeks ago'],\n",
       " [10,\n",
       "  'https://www.youtube.com/watch?v=luqdZrYnFOM',\n",
       "  'https://i.ytimg.com/vi/luqdZrYnFOM/hqdefault.jpg?sqp=-oaymwE1CKgBEF5IVfKriqkDKAgBFQAAiEIYAXABwAEG8AEB-AH-CYAC0AWKAgwIABABGFUgTihlMA8=\\\\u0026rs=AOn4CLCqc_2Bpb3QWK5gpB9rac6dXhx29g',\n",
       "  'Offer Ending Soon 🤯 | Only Few Hours Left | #SapneDekhneKiAzaadi 🔥',\n",
       "  '18K views',\n",
       "  '4 weeks ago'],\n",
       " [11,\n",
       "  'https://www.youtube.com/watch?v=YiBqvPi8Q1I',\n",
       "  'https://i.ytimg.com/vi/YiBqvPi8Q1I/hqdefault.jpg?sqp=-oaymwEbCKgBEF5IVfKriqkDDggBFQAAiEIYAXABwAEG\\\\u0026rs=AOn4CLA75vVY2k_O0OoCHbQuhOgg-nLG4Q',\n",
       "  'Upto 35% Off On All PW Batches 🔥 | Only 1 Day Left 🤯 #SapneDekhneKiAzaadi',\n",
       "  '14K views',\n",
       "  '4 weeks ago'],\n",
       " [12,\n",
       "  'https://www.youtube.com/watch?v=mw9mLdN6ssA',\n",
       "  'https://i.ytimg.com/vi/mw9mLdN6ssA/hqdefault.jpg?sqp=-oaymwEbCKgBEF5IVfKriqkDDggBFQAAiEIYAXABwAEG\\\\u0026rs=AOn4CLAImJ-DcjUmZEaasmWOj7z3clr_gg',\n",
       "  'Happy 77th Independence Day 🇮🇳 | Check the Offers Now 🔥 #SapneDekhneKiAzaadi',\n",
       "  '47K views',\n",
       "  '1 month ago'],\n",
       " [13,\n",
       "  'https://www.youtube.com/watch?v=LuTONVLzESM',\n",
       "  'https://i.ytimg.com/vi/LuTONVLzESM/hqdefault.jpg?sqp=-oaymwEbCKgBEF5IVfKriqkDDggBFQAAiEIYAXABwAEG\\\\u0026rs=AOn4CLAGQWUP6giB_s2WYL_mb72zpud-_A',\n",
       "  'ARTS की दुनिया की PAHAL 🔥 || Launching Class 11th ARTS BATCH',\n",
       "  '25K views',\n",
       "  '1 month ago'],\n",
       " [14,\n",
       "  'https://www.youtube.com/watch?v=KWXKegvNa-I',\n",
       "  'https://i.ytimg.com/vi/KWXKegvNa-I/hqdefault.jpg?sqp=-oaymwEbCKgBEF5IVfKriqkDDggBFQAAiEIYAXABwAEG\\\\u0026rs=AOn4CLDhBK7gq7PnSKmXrqMhUYbcmmKzxA',\n",
       "  'Something Big Coming Soon For Class - 9th \\\\u0026 10th Students 🔥 || Stay Tuned For More Updates 🖋️',\n",
       "  '45K views',\n",
       "  '2 months ago'],\n",
       " [15,\n",
       "  'https://www.youtube.com/watch?v=dArUpCasmnE',\n",
       "  'https://i.ytimg.com/vi/dArUpCasmnE/hqdefault.jpg?sqp=-oaymwEbCKgBEF5IVfKriqkDDggBFQAAiEIYAXABwAEG\\\\u0026rs=AOn4CLDe_WfL3docWSQ8OOg__DB7JIvNrQ',\n",
       "  'Launching PAHAL Batch 🔥 For Class 11th Arts Students 💪',\n",
       "  '39K views',\n",
       "  '2 months ago'],\n",
       " [16,\n",
       "  'https://www.youtube.com/watch?v=HqG2QchBw8Y',\n",
       "  'https://i.ytimg.com/vi/HqG2QchBw8Y/hqdefault.jpg?sqp=-oaymwEbCKgBEF5IVfKriqkDDggBFQAAiEIYAXABwAEG\\\\u0026rs=AOn4CLCV1vWBbE9dH-ydyS-W-ooTr7ZUEg',\n",
       "  'Launching FUNDO For Class - 6th to 8th Students 🔥💯 || Ab Hoga Padhai Ke Sath FUN 🤩',\n",
       "  '30K views',\n",
       "  '2 months ago'],\n",
       " [17,\n",
       "  'https://www.youtube.com/watch?v=1izKrQHyx9M',\n",
       "  'https://i.ytimg.com/vi/1izKrQHyx9M/hqdefault.jpg?sqp=-oaymwEbCKgBEF5IVfKriqkDDggBFQAAiEIYAXABwAEG\\\\u0026rs=AOn4CLBQ2rHTzoZeHcfTrxFvBhQO0ysRfA',\n",
       "  '⚡Unleashing the Power of PW Internationally⚡| Launching Physics Wallah Gulf',\n",
       "  '74K views',\n",
       "  '3 months ago'],\n",
       " [18,\n",
       "  'https://www.youtube.com/watch?v=jXAb1evxaJc',\n",
       "  'https://i.ytimg.com/vi/jXAb1evxaJc/hqdefault.jpg?sqp=-oaymwEbCKgBEF5IVfKriqkDDggBFQAAiEIYAXABwAEG\\\\u0026rs=AOn4CLAngmLbx6H2fPQbzdxvQxNytos22A',\n",
       "  'Big Announcement for Gulf Region Aspirants 🔥| Physics Wallah Gulf Channel Trailer🚀',\n",
       "  '101K views',\n",
       "  '3 months ago'],\n",
       " [19,\n",
       "  'https://www.youtube.com/watch?v=2dn7XMxRtPE',\n",
       "  'https://i.ytimg.com/vi/2dn7XMxRtPE/hqdefault.jpg?sqp=-oaymwEbCKgBEF5IVfKriqkDDggBFQAAiEIYAXABwAEG\\\\u0026rs=AOn4CLDwFV0YngBso5d1Ltb_Sc0k7jTQwA',\n",
       "  'Arjuna JEE v/s Arjuna NEET 🏏- Class 11th Faculties ka Cricket Match 🔥',\n",
       "  '555K views',\n",
       "  '3 months ago'],\n",
       " [20,\n",
       "  'https://www.youtube.com/watch?v=Fks4dVnTb5M',\n",
       "  'https://i.ytimg.com/vi/Fks4dVnTb5M/hqdefault.jpg?sqp=-oaymwEbCKgBEF5IVfKriqkDDggBFQAAiEIYAXABwAEG\\\\u0026rs=AOn4CLBnYX_eCf1zVIRLv6ALXSZ_6822ww',\n",
       "  'How to Study Zoology in Class 11th? Ab Saare Doubts Solve Honge !! 🔥',\n",
       "  '13K views',\n",
       "  '3 months ago']]"
      ]
     },
     "execution_count": 15,
     "metadata": {},
     "output_type": "execute_result"
    }
   ],
   "source": [
    "report_list"
   ]
  },
  {
   "cell_type": "code",
   "execution_count": 16,
   "id": "cebf99a8-0be8-4a8a-8286-475eddcf7e2d",
   "metadata": {},
   "outputs": [
    {
     "data": {
      "text/plain": [
       "'3 months ago'"
      ]
     },
     "execution_count": 16,
     "metadata": {},
     "output_type": "execute_result"
    }
   ],
   "source": [
    "published_time[i].split('\"')[-2]"
   ]
  },
  {
   "cell_type": "code",
   "execution_count": 17,
   "id": "8b55c90f-534f-4aa6-b28b-3335eb829a4e",
   "metadata": {},
   "outputs": [
    {
     "data": {
      "text/plain": [
       "'How to Study Zoology in Class 11th? Ab Saare Doubts Solve Honge !! 🔥'"
      ]
     },
     "execution_count": 17,
     "metadata": {},
     "output_type": "execute_result"
    }
   ],
   "source": [
    "titles[i].split('\"')[-2]"
   ]
  },
  {
   "cell_type": "code",
   "execution_count": 18,
   "id": "3df7eed0-f42a-464b-8d32-b4332cfb3b58",
   "metadata": {},
   "outputs": [
    {
     "data": {
      "text/plain": [
       "'13K views'"
      ]
     },
     "execution_count": 18,
     "metadata": {},
     "output_type": "execute_result"
    }
   ],
   "source": [
    "views[i].split('\"')[-2]"
   ]
  },
  {
   "cell_type": "code",
   "execution_count": 19,
   "id": "757033f5-6048-4ec3-9a7d-54e80b74e587",
   "metadata": {},
   "outputs": [
    {
     "data": {
      "text/plain": [
       "'https://i.ytimg.com/vi/Fks4dVnTb5M/hqdefault.jpg?sqp=-oaymwEbCKgBEF5IVfKriqkDDggBFQAAiEIYAXABwAEG\\\\u0026rs=AOn4CLBnYX_eCf1zVIRLv6ALXSZ_6822ww'"
      ]
     },
     "execution_count": 19,
     "metadata": {},
     "output_type": "execute_result"
    }
   ],
   "source": [
    "thumbnails[i].split('\"')[-2]"
   ]
  },
  {
   "cell_type": "code",
   "execution_count": 20,
   "id": "28ec020a-2d75-4d87-97b3-a103fcee83ac",
   "metadata": {},
   "outputs": [
    {
     "data": {
      "text/plain": [
       "'https://www.youtube.com/watch?v=Fks4dVnTb5M'"
      ]
     },
     "execution_count": 20,
     "metadata": {},
     "output_type": "execute_result"
    }
   ],
   "source": [
    "'https://www.youtube.com/watch?v=' + videoids[i].split('\"')[-2]"
   ]
  },
  {
   "cell_type": "markdown",
   "id": "5d182aa7-a35e-4f8f-80a1-2194bf473cff",
   "metadata": {},
   "source": [
    "## The End"
   ]
  }
 ],
 "metadata": {
  "kernelspec": {
   "display_name": "Python 3 (ipykernel)",
   "language": "python",
   "name": "python3"
  },
  "language_info": {
   "codemirror_mode": {
    "name": "ipython",
    "version": 3
   },
   "file_extension": ".py",
   "mimetype": "text/x-python",
   "name": "python",
   "nbconvert_exporter": "python",
   "pygments_lexer": "ipython3",
   "version": "3.10.8"
  }
 },
 "nbformat": 4,
 "nbformat_minor": 5
}
